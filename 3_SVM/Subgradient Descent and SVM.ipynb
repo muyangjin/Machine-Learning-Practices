{
 "cells": [
  {
   "cell_type": "code",
   "execution_count": 1,
   "metadata": {},
   "outputs": [],
   "source": [
    "import numpy as np\n",
    "import itertools\n",
    "import matplotlib.pyplot as plt\n",
    "import pandas as pd\n",
    "import pickle\n",
    "import os\n",
    "import random\n",
    "from collections import Counter"
   ]
  },
  {
   "cell_type": "markdown",
   "metadata": {},
   "source": [
    "# 4\n"
   ]
  },
  {
   "cell_type": "code",
   "execution_count": 2,
   "metadata": {},
   "outputs": [],
   "source": [
    "def folder_list(path):\n",
    "    filelist = os.listdir(path)\n",
    "    review = []\n",
    "    for infile in filelist:\n",
    "        file = os.path.join(path,infile)\n",
    "        r = read_data(file)\n",
    "        review.append(r)\n",
    "    return review\n",
    "def read_data(file):\n",
    "    '''\n",
    "    Read each file into a list of strings. \n",
    "    Example:\n",
    "    [\"it's\", 'a', 'curious', 'thing', \"i've\", 'found', 'that', 'when', 'willis', 'is', 'not', 'called', 'on', \n",
    "    ...'to', 'carry', 'the', 'whole', 'movie', \"he's\", 'much', 'better', 'and', 'so', 'is', 'the', 'movie']\n",
    "    '''\n",
    "    f = open(file)\n",
    "    lines = f.read().split(' ')\n",
    "    symbols = '${}()[].,:;+-*/&|<>=~\" '\n",
    "    words = map(lambda Element: Element.translate(str.maketrans(\"\", \"\", symbols)).strip(), lines)\n",
    "    words = filter(None, words)\n",
    "    return list(words)\n",
    "def get_data():\n",
    "    pos_path = \"data/pos\"\n",
    "    neg_path = \"data/neg\"\n",
    "\t\n",
    "    pos_review = folder_list(pos_path)\n",
    "    neg_review = folder_list(neg_path)\n",
    "    \n",
    "    review = np.array(pos_review + neg_review)\n",
    "    y = 1000*[1] + 1000*[-1]\n",
    "    return np.array(review), np.array(y)\n",
    "\n",
    "def dotProduct(d1, d2):\n",
    "    \"\"\"\n",
    "    @param dict d1: a feature vector represented by a mapping from a feature (string) to a weight (float).\n",
    "    @param dict d2: same as d1\n",
    "    @return float: the dot product between d1 and d2\n",
    "    \"\"\"\n",
    "    if len(d1) < len(d2):\n",
    "        return dotProduct(d2, d1)\n",
    "    else:\n",
    "        return sum(d1.get(f, 0) * v for f, v in d2.items())\n",
    "\n",
    "def increment(d1, scale, d2):\n",
    "    \"\"\"\n",
    "    Implements d1 += scale * d2 for sparse vectors.\n",
    "    @param dict d1: the feature vector which is mutated.\n",
    "    @param float scale\n",
    "    @param dict d2: a feature vector.\n",
    "\n",
    "    NOTE: This function does not return anything, but rather\n",
    "    increments d1 in place. We do this because it is much faster to\n",
    "    change elements of d1 in place than to build a new dictionary and\n",
    "    return it.\n",
    "    \"\"\"\n",
    "    for f, v in d2.items():\n",
    "        d1[f] = d1.get(f, 0) + v * scale\n",
    "\t"
   ]
  },
  {
   "cell_type": "code",
   "execution_count": 112,
   "metadata": {},
   "outputs": [],
   "source": [
    "X_all, y_all = get_data()\n",
    "a = {'words': X_all, 'review': y_all}\n",
    "data = pd.DataFrame(a)\n",
    "data = data.sample(frac=1).reset_index(drop=True)\n",
    "\n",
    "X_train = data[:1500]['words']\n",
    "y_train = list(data[:1500]['review'])\n",
    "X_val = data[1500:]['words']\n",
    "y_val = list(data[1500:]['review'])"
   ]
  },
  {
   "cell_type": "markdown",
   "metadata": {},
   "source": [
    "# 5"
   ]
  },
  {
   "cell_type": "code",
   "execution_count": 114,
   "metadata": {},
   "outputs": [],
   "source": [
    "def bow(list1):\n",
    "    return Counter(list1)\n",
    "X_train = [bow(i) for i in X_train]\n",
    "X_val = [bow(i) for i in X_val]"
   ]
  },
  {
   "cell_type": "markdown",
   "metadata": {},
   "source": [
    "# 6.4\n"
   ]
  },
  {
   "cell_type": "code",
   "execution_count": 5,
   "metadata": {},
   "outputs": [],
   "source": [
    "def scale(x,s):\n",
    "    for i,j in x.items():\n",
    "        x[i] = j*s "
   ]
  },
  {
   "cell_type": "code",
   "execution_count": 6,
   "metadata": {},
   "outputs": [],
   "source": [
    "def pegasos(X, y, lambda_ = 0.01, epoch = 10):\n",
    "    num_ins = len(X)\n",
    "    w = Counter()\n",
    "    t = 0\n",
    "    for j in range(epoch):\n",
    "        for i in range(num_ins):\n",
    "            t += 1\n",
    "            step = 1/(t*lambda_)\n",
    "            if y[i] * dotProduct(w, X[i]) < 1:\n",
    "                scale(w,(1-1/t))\n",
    "                increment(w,step*y[i],X[i])\n",
    "            else:\n",
    "                scale(w,(1-1/t))\n",
    "    return w"
   ]
  },
  {
   "cell_type": "code",
   "execution_count": 204,
   "metadata": {},
   "outputs": [
    {
     "name": "stdout",
     "output_type": "stream",
     "text": [
      "3min 20s ± 0 ns per loop (mean ± std. dev. of 1 run, 1 loop each)\n"
     ]
    }
   ],
   "source": [
    "%%timeit -r 1 -n 1\n",
    "w = pegasos(X_train,y_train)"
   ]
  },
  {
   "cell_type": "code",
   "execution_count": 152,
   "metadata": {},
   "outputs": [
    {
     "ename": "NameError",
     "evalue": "name 'util' is not defined",
     "output_type": "error",
     "traceback": [
      "\u001b[0;31m---------------------------------------------------------------------------\u001b[0m",
      "\u001b[0;31mNameError\u001b[0m                                 Traceback (most recent call last)",
      "\u001b[0;32m<ipython-input-152-1be1e20cf078>\u001b[0m in \u001b[0;36m<module>\u001b[0;34m()\u001b[0m\n\u001b[0;32m----> 1\u001b[0;31m \u001b[0mw\u001b[0m \u001b[0;34m=\u001b[0m \u001b[0mpegasos\u001b[0m\u001b[0;34m(\u001b[0m\u001b[0mX_train\u001b[0m\u001b[0;34m,\u001b[0m\u001b[0my_train\u001b[0m\u001b[0;34m,\u001b[0m\u001b[0mlambda_\u001b[0m \u001b[0;34m=\u001b[0m \u001b[0;36m0.001\u001b[0m\u001b[0;34m)\u001b[0m\u001b[0;34m\u001b[0m\u001b[0;34m\u001b[0m\u001b[0m\n\u001b[0m",
      "\u001b[0;32m<ipython-input-6-4c02da1e207b>\u001b[0m in \u001b[0;36mpegasos\u001b[0;34m(X, y, lambda_, epoch)\u001b[0m\n\u001b[1;32m      7\u001b[0m             \u001b[0mt\u001b[0m \u001b[0;34m+=\u001b[0m \u001b[0;36m1\u001b[0m\u001b[0;34m\u001b[0m\u001b[0;34m\u001b[0m\u001b[0m\n\u001b[1;32m      8\u001b[0m             \u001b[0mstep\u001b[0m \u001b[0;34m=\u001b[0m \u001b[0;36m1\u001b[0m\u001b[0;34m/\u001b[0m\u001b[0;34m(\u001b[0m\u001b[0mt\u001b[0m\u001b[0;34m*\u001b[0m\u001b[0mlambda_\u001b[0m\u001b[0;34m)\u001b[0m\u001b[0;34m\u001b[0m\u001b[0;34m\u001b[0m\u001b[0m\n\u001b[0;32m----> 9\u001b[0;31m             \u001b[0;32mif\u001b[0m \u001b[0my\u001b[0m\u001b[0;34m[\u001b[0m\u001b[0mi\u001b[0m\u001b[0;34m]\u001b[0m \u001b[0;34m*\u001b[0m \u001b[0mutil\u001b[0m\u001b[0;34m.\u001b[0m\u001b[0mdotProduct\u001b[0m\u001b[0;34m(\u001b[0m\u001b[0mw\u001b[0m\u001b[0;34m,\u001b[0m \u001b[0mX\u001b[0m\u001b[0;34m[\u001b[0m\u001b[0mi\u001b[0m\u001b[0;34m]\u001b[0m\u001b[0;34m)\u001b[0m \u001b[0;34m<\u001b[0m \u001b[0;36m1\u001b[0m\u001b[0;34m:\u001b[0m\u001b[0;34m\u001b[0m\u001b[0;34m\u001b[0m\u001b[0m\n\u001b[0m\u001b[1;32m     10\u001b[0m                 \u001b[0mscale\u001b[0m\u001b[0;34m(\u001b[0m\u001b[0mw\u001b[0m\u001b[0;34m,\u001b[0m\u001b[0;34m(\u001b[0m\u001b[0;36m1\u001b[0m\u001b[0;34m-\u001b[0m\u001b[0;36m1\u001b[0m\u001b[0;34m/\u001b[0m\u001b[0mt\u001b[0m\u001b[0;34m)\u001b[0m\u001b[0;34m)\u001b[0m\u001b[0;34m\u001b[0m\u001b[0;34m\u001b[0m\u001b[0m\n\u001b[1;32m     11\u001b[0m                 \u001b[0mutil\u001b[0m\u001b[0;34m.\u001b[0m\u001b[0mincrement\u001b[0m\u001b[0;34m(\u001b[0m\u001b[0mw\u001b[0m\u001b[0;34m,\u001b[0m\u001b[0mstep\u001b[0m\u001b[0;34m*\u001b[0m\u001b[0my\u001b[0m\u001b[0;34m[\u001b[0m\u001b[0mi\u001b[0m\u001b[0;34m]\u001b[0m\u001b[0;34m,\u001b[0m\u001b[0mX\u001b[0m\u001b[0;34m[\u001b[0m\u001b[0mi\u001b[0m\u001b[0;34m]\u001b[0m\u001b[0;34m)\u001b[0m\u001b[0;34m\u001b[0m\u001b[0;34m\u001b[0m\u001b[0m\n",
      "\u001b[0;31mNameError\u001b[0m: name 'util' is not defined"
     ]
    }
   ],
   "source": [
    "w = pegasos(X_train,y_train,lambda_ = 0.001)"
   ]
  },
  {
   "cell_type": "markdown",
   "metadata": {},
   "source": [
    "# 6.5"
   ]
  },
  {
   "cell_type": "code",
   "execution_count": 150,
   "metadata": {},
   "outputs": [],
   "source": [
    "def pegasos_s(X, y, lambda_ = 0.01, epoch = 100):\n",
    "    num_ins = len(X)\n",
    "    s = 1\n",
    "    W = Counter()\n",
    "    t = 0\n",
    "    for j in range(epoch):\n",
    "        test = True\n",
    "        for i in range(num_ins):\n",
    "            t += 1\n",
    "            step = 1/(t*lambda_)        \n",
    "            if s*y[i] * dotProduct(W, X[i]) < 1:\n",
    "                s = (1-1/t) * s\n",
    "                if s == 0:\n",
    "                    s = 1\n",
    "                    W = Counter()\n",
    "                else:\n",
    "                    increment(W,1/s*step*y[i],X[i])\n",
    "                test = False\n",
    "            else:\n",
    "                s = (1-1/t) * s\n",
    "        if test == True:\n",
    "            print('Lambda = ' + str(lambda_) + ', epoch taken = ' + str(j + 1))\n",
    "            increment(W,s-1,W)\n",
    "            return W\n",
    "    increment(W,s-1,W)\n",
    "    print('Lambda = ' + str(lambda_) + ', epoch taken = ' + str(j + 1))\n",
    "    return W"
   ]
  },
  {
   "cell_type": "code",
   "execution_count": 148,
   "metadata": {},
   "outputs": [
    {
     "name": "stdout",
     "output_type": "stream",
     "text": [
      "29.1 s ± 0 ns per loop (mean ± std. dev. of 1 run, 1 loop each)\n"
     ]
    }
   ],
   "source": [
    "%%timeit -r 1 -n 1 \n",
    "w_s = pegasos_s(X_train,y_train, epoch = 100)"
   ]
  },
  {
   "cell_type": "code",
   "execution_count": 153,
   "metadata": {},
   "outputs": [
    {
     "name": "stdout",
     "output_type": "stream",
     "text": [
      "Lambda = 0.001, epoch taken = 39\n"
     ]
    }
   ],
   "source": [
    "w = pegasos_s(X_train,y_train, lambda_ = 0.001)"
   ]
  },
  {
   "cell_type": "markdown",
   "metadata": {},
   "source": [
    "# 6.7"
   ]
  },
  {
   "cell_type": "code",
   "execution_count": 61,
   "metadata": {},
   "outputs": [],
   "source": [
    "def loss_01(w, X, y):\n",
    "    num_ins = len(X)\n",
    "    if num_ins == 0:\n",
    "        return 'No data!'\n",
    "    error = 0\n",
    "    for i in range(num_ins):\n",
    "        if np.sign(dotProduct(X[i],w)) != np.sign(y[i]):\n",
    "            error += 1\n",
    "    return error/num_ins"
   ]
  },
  {
   "cell_type": "markdown",
   "metadata": {},
   "source": [
    "# 6.8"
   ]
  },
  {
   "cell_type": "code",
   "execution_count": 42,
   "metadata": {},
   "outputs": [],
   "source": [
    "lambda_try = [1e-8,1e-6,1e-4,1e-2,1e-1,1,10]\n",
    "val_result = []\n",
    "train_result = []\n",
    "for i in lambda_try:\n",
    "    w_s = pegasos_s(X_train,y_train, epoch = 100, lambda_ = i)\n",
    "    val_result.append(loss_01(w_s, X_val, y_val))\n",
    "    train_result.append(loss_01(w_s, X_train, y_train))"
   ]
  },
  {
   "cell_type": "code",
   "execution_count": 43,
   "metadata": {},
   "outputs": [
    {
     "data": {
      "image/png": "[encoded data removed]",
      "text/plain": [
       "<Figure size 432x288 with 1 Axes>"
      ]
     },
     "metadata": {},
     "output_type": "display_data"
    }
   ],
   "source": [
    "ax = plt.subplot()\n",
    "ax.semilogx(lambda_try, val_result,'-o',label = 'Validation Performance')\n",
    "ax.semilogx(lambda_try, train_result,'-o',label = 'Train Performance')\n",
    "ax.legend()\n",
    "ax.set_title('Performances vs Regularization Parameters', color = 'w')\n",
    "ax.set_xlabel('Log Lambda', color = 'w')\n",
    "ax.set_ylabel('Error Rate', color = 'w')\n",
    "ax.tick_params(axis='x', colors='w')\n",
    "ax.tick_params(axis='y', colors='w')"
   ]
  },
  {
   "cell_type": "code",
   "execution_count": 46,
   "metadata": {},
   "outputs": [
    {
     "data": {
      "text/html": [
       "<div>\n",
       "<style scoped>\n",
       "    .dataframe tbody tr th:only-of-type {\n",
       "        vertical-align: middle;\n",
       "    }\n",
       "\n",
       "    .dataframe tbody tr th {\n",
       "        vertical-align: top;\n",
       "    }\n",
       "\n",
       "    .dataframe thead th {\n",
       "        text-align: right;\n",
       "    }\n",
       "</style>\n",
       "<table border=\"1\" class=\"dataframe\">\n",
       "  <thead>\n",
       "    <tr style=\"text-align: right;\">\n",
       "      <th></th>\n",
       "      <th>Lambda</th>\n",
       "      <th>Validation Result</th>\n",
       "      <th>Train Result</th>\n",
       "    </tr>\n",
       "  </thead>\n",
       "  <tbody>\n",
       "    <tr>\n",
       "      <th>0</th>\n",
       "      <td>1.000000e-08</td>\n",
       "      <td>0.186</td>\n",
       "      <td>0.000000</td>\n",
       "    </tr>\n",
       "    <tr>\n",
       "      <th>1</th>\n",
       "      <td>1.000000e-06</td>\n",
       "      <td>0.186</td>\n",
       "      <td>0.000000</td>\n",
       "    </tr>\n",
       "    <tr>\n",
       "      <th>2</th>\n",
       "      <td>1.000000e-04</td>\n",
       "      <td>0.172</td>\n",
       "      <td>0.000000</td>\n",
       "    </tr>\n",
       "    <tr>\n",
       "      <th>3</th>\n",
       "      <td>1.000000e-02</td>\n",
       "      <td>0.200</td>\n",
       "      <td>0.000667</td>\n",
       "    </tr>\n",
       "    <tr>\n",
       "      <th>4</th>\n",
       "      <td>1.000000e-01</td>\n",
       "      <td>0.214</td>\n",
       "      <td>0.010667</td>\n",
       "    </tr>\n",
       "    <tr>\n",
       "      <th>5</th>\n",
       "      <td>1.000000e+00</td>\n",
       "      <td>0.214</td>\n",
       "      <td>0.083333</td>\n",
       "    </tr>\n",
       "    <tr>\n",
       "      <th>6</th>\n",
       "      <td>1.000000e+01</td>\n",
       "      <td>0.326</td>\n",
       "      <td>0.260667</td>\n",
       "    </tr>\n",
       "  </tbody>\n",
       "</table>\n",
       "</div>"
      ],
      "text/plain": [
       "         Lambda  Validation Result  Train Result\n",
       "0  1.000000e-08              0.186      0.000000\n",
       "1  1.000000e-06              0.186      0.000000\n",
       "2  1.000000e-04              0.172      0.000000\n",
       "3  1.000000e-02              0.200      0.000667\n",
       "4  1.000000e-01              0.214      0.010667\n",
       "5  1.000000e+00              0.214      0.083333\n",
       "6  1.000000e+01              0.326      0.260667"
      ]
     },
     "execution_count": 46,
     "metadata": {},
     "output_type": "execute_result"
    }
   ],
   "source": [
    "result_df = pd.DataFrame({'Lambda': lambda_try, 'Validation Result': val_result, 'Train Result': train_result})\n",
    "result_df"
   ]
  },
  {
   "cell_type": "markdown",
   "metadata": {},
   "source": [
    "# 7"
   ]
  },
  {
   "cell_type": "code",
   "execution_count": 141,
   "metadata": {},
   "outputs": [],
   "source": [
    "w_s = pegasos_s(X_train,y_train, epoch = 100, lambda_ = 1)"
   ]
  },
  {
   "cell_type": "code",
   "execution_count": 89,
   "metadata": {},
   "outputs": [
    {
     "name": "stdout",
     "output_type": "stream",
     "text": [
      "20.733333333590068 -1\n"
     ]
    }
   ],
   "source": [
    "index = list(range(500))\n",
    "np.random.shuffle(index)\n",
    "for i in index:\n",
    "    if np.sign(dotProduct(X_val[i],w_s)) != np.sign(y_val[i]) and abs(dotProduct(X_val[i],w_s)) > 1:\n",
    "        X_e = X_val[i]\n",
    "        y_e = y_val[i]\n",
    "        w_e = w_s\n",
    "        break\n",
    "print(dotProduct(X_e,w_e), y_e)"
   ]
  },
  {
   "cell_type": "code",
   "execution_count": 29,
   "metadata": {},
   "outputs": [],
   "source": [
    "word = []\n",
    "im = []\n",
    "num = []\n",
    "wei = []\n",
    "for key, value in X_e.items():\n",
    "    word.append(key)\n",
    "    im.append(abs(w_e[key] * value))\n",
    "    num.append(value)\n",
    "    wei.append(w_e[key])"
   ]
  },
  {
   "cell_type": "code",
   "execution_count": 30,
   "metadata": {
    "collapsed": true
   },
   "outputs": [
    {
     "data": {
      "text/html": [
       "<div>\n",
       "<style scoped>\n",
       "    .dataframe tbody tr th:only-of-type {\n",
       "        vertical-align: middle;\n",
       "    }\n",
       "\n",
       "    .dataframe tbody tr th {\n",
       "        vertical-align: top;\n",
       "    }\n",
       "\n",
       "    .dataframe thead th {\n",
       "        text-align: right;\n",
       "    }\n",
       "</style>\n",
       "<table border=\"1\" class=\"dataframe\">\n",
       "  <thead>\n",
       "    <tr style=\"text-align: right;\">\n",
       "      <th></th>\n",
       "      <th>Words</th>\n",
       "      <th>Contribution</th>\n",
       "      <th>Occurance</th>\n",
       "      <th>Weight</th>\n",
       "    </tr>\n",
       "  </thead>\n",
       "  <tbody>\n",
       "    <tr>\n",
       "      <th>26</th>\n",
       "      <td>the</td>\n",
       "      <td>120.133333</td>\n",
       "      <td>53</td>\n",
       "      <td>2.266667</td>\n",
       "    </tr>\n",
       "    <tr>\n",
       "      <th>21</th>\n",
       "      <td>and</td>\n",
       "      <td>113.333333</td>\n",
       "      <td>20</td>\n",
       "      <td>5.666667</td>\n",
       "    </tr>\n",
       "    <tr>\n",
       "      <th>8</th>\n",
       "      <td>scream</td>\n",
       "      <td>99.600000</td>\n",
       "      <td>18</td>\n",
       "      <td>5.533333</td>\n",
       "    </tr>\n",
       "    <tr>\n",
       "      <th>7</th>\n",
       "      <td>of</td>\n",
       "      <td>74.666667</td>\n",
       "      <td>35</td>\n",
       "      <td>-2.133333</td>\n",
       "    </tr>\n",
       "    <tr>\n",
       "      <th>62</th>\n",
       "      <td>at</td>\n",
       "      <td>44.800000</td>\n",
       "      <td>7</td>\n",
       "      <td>-6.400000</td>\n",
       "    </tr>\n",
       "    <tr>\n",
       "      <th>51</th>\n",
       "      <td>a</td>\n",
       "      <td>33.600000</td>\n",
       "      <td>24</td>\n",
       "      <td>-1.400000</td>\n",
       "    </tr>\n",
       "    <tr>\n",
       "      <th>212</th>\n",
       "      <td>as</td>\n",
       "      <td>32.000000</td>\n",
       "      <td>10</td>\n",
       "      <td>3.200000</td>\n",
       "    </tr>\n",
       "    <tr>\n",
       "      <th>93</th>\n",
       "      <td>in</td>\n",
       "      <td>27.200000</td>\n",
       "      <td>17</td>\n",
       "      <td>1.600000</td>\n",
       "    </tr>\n",
       "    <tr>\n",
       "      <th>77</th>\n",
       "      <td>out</td>\n",
       "      <td>25.400000</td>\n",
       "      <td>3</td>\n",
       "      <td>-8.466667</td>\n",
       "    </tr>\n",
       "    <tr>\n",
       "      <th>68</th>\n",
       "      <td>?</td>\n",
       "      <td>22.400000</td>\n",
       "      <td>7</td>\n",
       "      <td>-3.200000</td>\n",
       "    </tr>\n",
       "    <tr>\n",
       "      <th>245</th>\n",
       "      <td>your</td>\n",
       "      <td>21.000000</td>\n",
       "      <td>3</td>\n",
       "      <td>7.000000</td>\n",
       "    </tr>\n",
       "    <tr>\n",
       "      <th>262</th>\n",
       "      <td>will</td>\n",
       "      <td>20.000000</td>\n",
       "      <td>3</td>\n",
       "      <td>6.666667</td>\n",
       "    </tr>\n",
       "    <tr>\n",
       "      <th>126</th>\n",
       "      <td>if</td>\n",
       "      <td>19.866667</td>\n",
       "      <td>2</td>\n",
       "      <td>-9.933333</td>\n",
       "    </tr>\n",
       "    <tr>\n",
       "      <th>172</th>\n",
       "      <td>most</td>\n",
       "      <td>19.333333</td>\n",
       "      <td>2</td>\n",
       "      <td>9.666667</td>\n",
       "    </tr>\n",
       "    <tr>\n",
       "      <th>154</th>\n",
       "      <td>but</td>\n",
       "      <td>19.000000</td>\n",
       "      <td>5</td>\n",
       "      <td>3.800000</td>\n",
       "    </tr>\n",
       "    <tr>\n",
       "      <th>33</th>\n",
       "      <td>you</td>\n",
       "      <td>18.800000</td>\n",
       "      <td>2</td>\n",
       "      <td>9.400000</td>\n",
       "    </tr>\n",
       "    <tr>\n",
       "      <th>137</th>\n",
       "      <td>up</td>\n",
       "      <td>17.200000</td>\n",
       "      <td>2</td>\n",
       "      <td>-8.600000</td>\n",
       "    </tr>\n",
       "    <tr>\n",
       "      <th>86</th>\n",
       "      <td>this</td>\n",
       "      <td>16.800000</td>\n",
       "      <td>4</td>\n",
       "      <td>-4.200000</td>\n",
       "    </tr>\n",
       "    <tr>\n",
       "      <th>39</th>\n",
       "      <td>be</td>\n",
       "      <td>16.666667</td>\n",
       "      <td>5</td>\n",
       "      <td>-3.333333</td>\n",
       "    </tr>\n",
       "    <tr>\n",
       "      <th>40</th>\n",
       "      <td>on</td>\n",
       "      <td>16.200000</td>\n",
       "      <td>3</td>\n",
       "      <td>-5.400000</td>\n",
       "    </tr>\n",
       "  </tbody>\n",
       "</table>\n",
       "</div>"
      ],
      "text/plain": [
       "      Words  Contribution  Occurance    Weight\n",
       "26      the    120.133333         53  2.266667\n",
       "21      and    113.333333         20  5.666667\n",
       "8    scream     99.600000         18  5.533333\n",
       "7        of     74.666667         35 -2.133333\n",
       "62       at     44.800000          7 -6.400000\n",
       "51        a     33.600000         24 -1.400000\n",
       "212      as     32.000000         10  3.200000\n",
       "93       in     27.200000         17  1.600000\n",
       "77      out     25.400000          3 -8.466667\n",
       "68        ?     22.400000          7 -3.200000\n",
       "245    your     21.000000          3  7.000000\n",
       "262    will     20.000000          3  6.666667\n",
       "126      if     19.866667          2 -9.933333\n",
       "172    most     19.333333          2  9.666667\n",
       "154     but     19.000000          5  3.800000\n",
       "33      you     18.800000          2  9.400000\n",
       "137      up     17.200000          2 -8.600000\n",
       "86     this     16.800000          4 -4.200000\n",
       "39       be     16.666667          5 -3.333333\n",
       "40       on     16.200000          3 -5.400000"
      ]
     },
     "execution_count": 30,
     "metadata": {},
     "output_type": "execute_result"
    }
   ],
   "source": [
    "contribution = pd.DataFrame({'Words' : word, 'Contribution' : im, 'Occurance' : num, 'Weight' : wei})\n",
    "contribution.sort_values(by = 'Contribution', ascending= False).head(20)"
   ]
  },
  {
   "cell_type": "code",
   "execution_count": 133,
   "metadata": {},
   "outputs": [
    {
     "name": "stdout",
     "output_type": "stream",
     "text": [
      "-55.73333333257142 1\n"
     ]
    },
    {
     "data": {
      "text/html": [
       "<div>\n",
       "<style scoped>\n",
       "    .dataframe tbody tr th:only-of-type {\n",
       "        vertical-align: middle;\n",
       "    }\n",
       "\n",
       "    .dataframe tbody tr th {\n",
       "        vertical-align: top;\n",
       "    }\n",
       "\n",
       "    .dataframe thead th {\n",
       "        text-align: right;\n",
       "    }\n",
       "</style>\n",
       "<table border=\"1\" class=\"dataframe\">\n",
       "  <thead>\n",
       "    <tr style=\"text-align: right;\">\n",
       "      <th></th>\n",
       "      <th>Words</th>\n",
       "      <th>Contribution</th>\n",
       "      <th>Occurance</th>\n",
       "      <th>Weight</th>\n",
       "    </tr>\n",
       "  </thead>\n",
       "  <tbody>\n",
       "    <tr>\n",
       "      <th>39</th>\n",
       "      <td>on</td>\n",
       "      <td>71.466667</td>\n",
       "      <td>8</td>\n",
       "      <td>-8.933333</td>\n",
       "    </tr>\n",
       "    <tr>\n",
       "      <th>45</th>\n",
       "      <td>great</td>\n",
       "      <td>63.733333</td>\n",
       "      <td>4</td>\n",
       "      <td>15.933333</td>\n",
       "    </tr>\n",
       "    <tr>\n",
       "      <th>1</th>\n",
       "      <td>murphy</td>\n",
       "      <td>53.200000</td>\n",
       "      <td>7</td>\n",
       "      <td>-7.600000</td>\n",
       "    </tr>\n",
       "    <tr>\n",
       "      <th>8</th>\n",
       "      <td>and</td>\n",
       "      <td>52.800000</td>\n",
       "      <td>11</td>\n",
       "      <td>4.800000</td>\n",
       "    </tr>\n",
       "    <tr>\n",
       "      <th>28</th>\n",
       "      <td>the</td>\n",
       "      <td>46.933333</td>\n",
       "      <td>32</td>\n",
       "      <td>1.466667</td>\n",
       "    </tr>\n",
       "    <tr>\n",
       "      <th>20</th>\n",
       "      <td>to</td>\n",
       "      <td>37.600000</td>\n",
       "      <td>12</td>\n",
       "      <td>-3.133333</td>\n",
       "    </tr>\n",
       "    <tr>\n",
       "      <th>24</th>\n",
       "      <td>a</td>\n",
       "      <td>36.666667</td>\n",
       "      <td>22</td>\n",
       "      <td>1.666667</td>\n",
       "    </tr>\n",
       "    <tr>\n",
       "      <th>52</th>\n",
       "      <td>it's</td>\n",
       "      <td>33.333333</td>\n",
       "      <td>5</td>\n",
       "      <td>6.666667</td>\n",
       "    </tr>\n",
       "    <tr>\n",
       "      <th>254</th>\n",
       "      <td>bad</td>\n",
       "      <td>27.066667</td>\n",
       "      <td>1</td>\n",
       "      <td>-27.066667</td>\n",
       "    </tr>\n",
       "    <tr>\n",
       "      <th>83</th>\n",
       "      <td>one</td>\n",
       "      <td>24.600000</td>\n",
       "      <td>3</td>\n",
       "      <td>8.200000</td>\n",
       "    </tr>\n",
       "    <tr>\n",
       "      <th>112</th>\n",
       "      <td>way</td>\n",
       "      <td>24.200000</td>\n",
       "      <td>3</td>\n",
       "      <td>8.066667</td>\n",
       "    </tr>\n",
       "    <tr>\n",
       "      <th>66</th>\n",
       "      <td>enough</td>\n",
       "      <td>23.733333</td>\n",
       "      <td>2</td>\n",
       "      <td>-11.866667</td>\n",
       "    </tr>\n",
       "    <tr>\n",
       "      <th>0</th>\n",
       "      <td>eddie</td>\n",
       "      <td>21.600000</td>\n",
       "      <td>3</td>\n",
       "      <td>-7.200000</td>\n",
       "    </tr>\n",
       "    <tr>\n",
       "      <th>6</th>\n",
       "      <td>of</td>\n",
       "      <td>19.066667</td>\n",
       "      <td>11</td>\n",
       "      <td>-1.733333</td>\n",
       "    </tr>\n",
       "    <tr>\n",
       "      <th>43</th>\n",
       "      <td>life</td>\n",
       "      <td>18.133333</td>\n",
       "      <td>4</td>\n",
       "      <td>4.533333</td>\n",
       "    </tr>\n",
       "    <tr>\n",
       "      <th>134</th>\n",
       "      <td>all</td>\n",
       "      <td>16.400000</td>\n",
       "      <td>2</td>\n",
       "      <td>-8.200000</td>\n",
       "    </tr>\n",
       "    <tr>\n",
       "      <th>13</th>\n",
       "      <td>for</td>\n",
       "      <td>15.333333</td>\n",
       "      <td>5</td>\n",
       "      <td>3.066667</td>\n",
       "    </tr>\n",
       "    <tr>\n",
       "      <th>190</th>\n",
       "      <td>only</td>\n",
       "      <td>14.933333</td>\n",
       "      <td>1</td>\n",
       "      <td>-14.933333</td>\n",
       "    </tr>\n",
       "    <tr>\n",
       "      <th>22</th>\n",
       "      <td>back</td>\n",
       "      <td>14.666667</td>\n",
       "      <td>2</td>\n",
       "      <td>7.333333</td>\n",
       "    </tr>\n",
       "    <tr>\n",
       "      <th>36</th>\n",
       "      <td>he</td>\n",
       "      <td>14.533333</td>\n",
       "      <td>2</td>\n",
       "      <td>7.266667</td>\n",
       "    </tr>\n",
       "  </tbody>\n",
       "</table>\n",
       "</div>"
      ],
      "text/plain": [
       "      Words  Contribution  Occurance     Weight\n",
       "39       on     71.466667          8  -8.933333\n",
       "45    great     63.733333          4  15.933333\n",
       "1    murphy     53.200000          7  -7.600000\n",
       "8       and     52.800000         11   4.800000\n",
       "28      the     46.933333         32   1.466667\n",
       "20       to     37.600000         12  -3.133333\n",
       "24        a     36.666667         22   1.666667\n",
       "52     it's     33.333333          5   6.666667\n",
       "254     bad     27.066667          1 -27.066667\n",
       "83      one     24.600000          3   8.200000\n",
       "112     way     24.200000          3   8.066667\n",
       "66   enough     23.733333          2 -11.866667\n",
       "0     eddie     21.600000          3  -7.200000\n",
       "6        of     19.066667         11  -1.733333\n",
       "43     life     18.133333          4   4.533333\n",
       "134     all     16.400000          2  -8.200000\n",
       "13      for     15.333333          5   3.066667\n",
       "190    only     14.933333          1 -14.933333\n",
       "22     back     14.666667          2   7.333333\n",
       "36       he     14.533333          2   7.266667"
      ]
     },
     "execution_count": 133,
     "metadata": {},
     "output_type": "execute_result"
    }
   ],
   "source": [
    "index = list(range(500))\n",
    "np.random.shuffle(index)\n",
    "for i in index:\n",
    "    if np.sign(dotProduct(X_val[i],w_s)) != np.sign(y_val[i]) and abs(dotProduct(X_val[i],w_s)) > 1:\n",
    "        X_e = X_val[i]\n",
    "        y_e = y_val[i]\n",
    "        w_e = w_s\n",
    "        break\n",
    "print(dotProduct(X_e,w_e), y_e)\n",
    "word = []\n",
    "im = []\n",
    "num = []\n",
    "wei = []\n",
    "values = []\n",
    "for key, value in X_e.items():\n",
    "    word.append(key)\n",
    "    im.append(abs(w_e[key] * value))\n",
    "    num.append(value)\n",
    "    wei.append(w_e[key])\n",
    "    values.append(values)\n",
    "contribution = pd.DataFrame({'Words' : word, 'Contribution' : im, 'Occurance' : num, 'Weight' : wei})\n",
    "contribution.sort_values(by = 'Contribution', ascending= False).head(20)"
   ]
  },
  {
   "cell_type": "markdown",
   "metadata": {},
   "source": [
    "# 6.9"
   ]
  },
  {
   "cell_type": "code",
   "execution_count": 135,
   "metadata": {},
   "outputs": [],
   "source": [
    "index = list(range(500))\n",
    "np.random.shuffle(index)\n",
    "X_1, y_1 = [], []\n",
    "X_10, y_10 = [], []\n",
    "X_50, y_50 = [], []\n",
    "X_100, y_100 = [], []\n",
    "X_200, y_200 = [], []\n",
    "for i in index:\n",
    "    if abs(dotProduct(X_val[i],w_s)) < 1:\n",
    "        X_1.append(X_val[i])\n",
    "        y_1.append(y_val[i])\n",
    "    elif abs(dotProduct(X_val[i],w_s)) >= 1 and abs(dotProduct(X_val[i],w_s)) < 10:\n",
    "        X_10.append(X_val[i])\n",
    "        y_10.append(y_val[i])\n",
    "    elif abs(dotProduct(X_val[i],w_s)) >= 10 and abs(dotProduct(X_val[i],w_s)) < 50:\n",
    "        X_50.append(X_val[i])\n",
    "        y_50.append(y_val[i])\n",
    "    elif abs(dotProduct(X_val[i],w_s)) >= 50 and abs(dotProduct(X_val[i],w_s)) < 100:\n",
    "        X_100.append(X_val[i])\n",
    "        y_100.append(y_val[i])\n",
    "    else:\n",
    "        X_200.append(X_val[i])\n",
    "        y_200.append(y_val[i])\n"
   ]
  },
  {
   "cell_type": "code",
   "execution_count": 136,
   "metadata": {},
   "outputs": [
    {
     "name": "stdout",
     "output_type": "stream",
     "text": [
      "Value in [0,1), loss = 0.5\n",
      "Margin in [0,10), Error Rate = 0.6666666666666666\n",
      "Margin in [10,50), Error Rate = 0.3563218390804598\n",
      "Margin in [50,100), Error Rate = 0.2543859649122807\n",
      "Margin in [100,), Error Rate = 0.10175438596491228\n"
     ]
    }
   ],
   "source": [
    "print('Value in [0,1), loss = ' + str(loss_01(w_s,X_1,y_1)))\n",
    "print('Margin in [0,10), Error Rate = ' + str(loss_01(w_s,X_10,y_10)))\n",
    "print('Margin in [10,50), Error Rate = ' + str(loss_01(w_s,X_50,y_50)))\n",
    "print('Margin in [50,100), Error Rate = ' + str(loss_01(w_s,X_100,y_100)))\n",
    "print('Margin in [100,), Error Rate = ' + str(loss_01(w_s,X_200,y_200)))"
   ]
  },
  {
   "cell_type": "markdown",
   "metadata": {},
   "source": [
    "# 6.10"
   ]
  },
  {
   "cell_type": "code",
   "execution_count": 145,
   "metadata": {},
   "outputs": [
    {
     "data": {
      "text/plain": [
       "34"
      ]
     },
     "execution_count": 145,
     "metadata": {},
     "output_type": "execute_result"
    }
   ],
   "source": [
    "index = list(range(1500))\n",
    "np.random.shuffle(index)\n",
    "count = 0\n",
    "for i in index:\n",
    "    if y_train[i]*dotProduct(X_train[i],w_s) > 0.99 and y_train[i]*dotProduct(X_train[i],w_s) < 1.01:\n",
    "        count += 1\n",
    "count"
   ]
  },
  {
   "cell_type": "code",
   "execution_count": 155,
   "metadata": {},
   "outputs": [
    {
     "data": {
      "text/plain": [
       "12"
      ]
     },
     "execution_count": 155,
     "metadata": {},
     "output_type": "execute_result"
    }
   ],
   "source": [
    "np.dot([1,1,1,2,1,1,1,1,1,1,1,1,1,1,1,1,1,1,1,0,0,0,0,0],[1,0,0,2,1,1,1,1,1,1,0,0,0,0,0,0,0,0,1,1,1,1,1,1])"
   ]
  },
  {
   "cell_type": "code",
   "execution_count": 158,
   "metadata": {},
   "outputs": [
    {
     "data": {
      "text/plain": [
       "0.620505227994023"
      ]
     },
     "execution_count": 158,
     "metadata": {},
     "output_type": "execute_result"
    }
   ],
   "source": [
    "12/(np.sqrt(22)*np.sqrt(17))"
   ]
  },
  {
   "cell_type": "code",
   "execution_count": null,
   "metadata": {},
   "outputs": [],
   "source": []
  }
 ],
 "metadata": {
  "kernelspec": {
   "display_name": "Python 3",
   "language": "python",
   "name": "python3"
  },
  "language_info": {
   "codemirror_mode": {
    "name": "ipython",
    "version": 3
   },
   "file_extension": ".py",
   "mimetype": "text/x-python",
   "name": "python",
   "nbconvert_exporter": "python",
   "pygments_lexer": "ipython3",
   "version": "3.6.8"
  }
 },
 "nbformat": 4,
 "nbformat_minor": 2
}
